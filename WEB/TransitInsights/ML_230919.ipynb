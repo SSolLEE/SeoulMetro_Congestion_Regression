{
 "cells": [
  {
   "cell_type": "code",
   "execution_count": 5,
   "id": "25214409-f98c-4111-8d4d-ce8086cea469",
   "metadata": {},
   "outputs": [],
   "source": [
    "import pandas as pd\n",
    "import joblib\n",
    "\n",
    "df = pd.read_csv(\"호선정리.csv\", encoding='CP949')\n",
    "list_data = df.values.tolist()\n",
    "\n",
    "def get_station_number(station_name, station_data):\n",
    "    for item in station_data:\n",
    "        if item[2] == station_name:\n",
    "            return int(item[0])\n",
    "    return None\n",
    "\n",
    "def determine_direction(start_station, end_station, station_data):\n",
    "    start_num = get_station_number(start_station, station_data)\n",
    "    end_num = get_station_number(end_station, station_data)\n",
    "    return \"상선\" if (end_num - start_num) > 0 else \"하선\"\n",
    "\n",
    "def compute_average_congestion(congestion_values):\n",
    "    return sum(congestion_values) / len(congestion_values)\n",
    "\n",
    "def print_congestion_predictions(start_station, end_station, input_YEAR, input_MONTH, input_DAY, input_LINE, input_TIME, station_data):\n",
    "    filtered_station_data = [item for item in station_data if item[1] == input_LINE]\n",
    "    stations = [item[2] for item in filtered_station_data]\n",
    "    \n",
    "    start_idx = stations.index(start_station)\n",
    "    end_idx = stations.index(end_station)\n",
    "    if start_idx > end_idx:\n",
    "        start_idx, end_idx = end_idx, start_idx\n",
    "\n",
    "    direction = determine_direction(start_station, end_station, station_data)\n",
    "    \n",
    "    model = joblib.load(f'XGB_reg_num{input_LINE}.pkl')\n",
    "\n",
    "    congestion_values = []\n",
    "    for idx in range(start_idx, end_idx + 1):\n",
    "        station = stations[idx]\n",
    "        input_data = pd.DataFrame({\n",
    "            'YEAR': [input_YEAR],\n",
    "            'MONTH': [input_MONTH],\n",
    "            'DAY': [input_DAY],\n",
    "            'STATION': [station],\n",
    "            'DIRECTION': [direction],\n",
    "            'TIME_00': [input_TIME]\n",
    "        })\n",
    "        \n",
    "        prediction = model.predict(input_data)\n",
    "        # print(f\"역: {station}, 예측 혼잡도: {prediction[0]:.2f}\")\n",
    "        congestion_values.append(prediction[0])\n",
    "\n",
    "    avg_congestion = compute_average_congestion(congestion_values)\n",
    "    return avg_congestion\n",
    "    # print(f\"평균 혼잡도: {avg_congestion:.2f}\")"
   ]
  },
  {
   "cell_type": "code",
   "execution_count": 6,
   "id": "34a1ad62-cbe7-4cda-b6d4-1f2876b77d45",
   "metadata": {},
   "outputs": [
    {
     "name": "stdout",
     "output_type": "stream",
     "text": [
      "역: 시청, 예측 혼잡도: 68.94\n",
      "역: 을지로입구, 예측 혼잡도: 75.82\n",
      "역: 을지로3가, 예측 혼잡도: 77.15\n",
      "역: 을지로4가, 예측 혼잡도: 81.48\n",
      "역: 동대문역사문화공원, 예측 혼잡도: 76.30\n",
      "역: 신당, 예측 혼잡도: 75.42\n",
      "역: 상왕십리, 예측 혼잡도: 78.19\n",
      "역: 왕십리, 예측 혼잡도: 60.95\n",
      "역: 한양대, 예측 혼잡도: 78.82\n",
      "역: 뚝섬, 예측 혼잡도: 64.71\n",
      "역: 성수, 예측 혼잡도: 53.88\n",
      "역: 건대입구, 예측 혼잡도: 54.82\n",
      "역: 구의, 예측 혼잡도: 57.26\n",
      "역: 강변, 예측 혼잡도: 48.44\n",
      "역: 잠실나루, 예측 혼잡도: 52.90\n",
      "역: 잠실, 예측 혼잡도: 52.65\n",
      "역: 신천, 예측 혼잡도: 74.38\n",
      "역: 종합운동장, 예측 혼잡도: 47.41\n",
      "역: 삼성, 예측 혼잡도: 82.26\n",
      "역: 선릉, 예측 혼잡도: 124.54\n",
      "역: 역삼, 예측 혼잡도: 142.65\n",
      "역: 강남, 예측 혼잡도: 133.54\n",
      "평균 혼잡도: 75.57\n"
     ]
    }
   ],
   "source": [
    "print_congestion_predictions('시청', '강남', 2023, 5, '월', 2, 'TIME_18', list_data)"
   ]
  }
 ],
 "metadata": {
  "kernelspec": {
   "display_name": "Python 3 (ipykernel)",
   "language": "python",
   "name": "python3"
  },
  "language_info": {
   "codemirror_mode": {
    "name": "ipython",
    "version": 3
   },
   "file_extension": ".py",
   "mimetype": "text/x-python",
   "name": "python",
   "nbconvert_exporter": "python",
   "pygments_lexer": "ipython3",
   "version": "3.9.13"
  }
 },
 "nbformat": 4,
 "nbformat_minor": 5
}
