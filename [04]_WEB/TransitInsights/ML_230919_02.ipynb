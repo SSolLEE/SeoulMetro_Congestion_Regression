{
 "cells": [
  {
   "cell_type": "code",
   "execution_count": 83,
   "id": "25214409-f98c-4111-8d4d-ce8086cea469",
   "metadata": {},
   "outputs": [],
   "source": [
    "import pandas as pd\n",
    "import joblib\n",
    "\n",
    "df = pd.read_csv(\"호선정리.csv\", encoding='CP949')\n",
    "list_data = df.values.tolist()\n",
    "\n",
    "def get_station_number(station_name, station_data):\n",
    "    for item in station_data:\n",
    "        if item[2] == station_name:\n",
    "            return int(item[0])\n",
    "    return None\n",
    "\n",
    "def determine_direction(start_station, end_station, station_data):\n",
    "    start_num = get_station_number(start_station, station_data)\n",
    "    end_num = get_station_number(end_station, station_data)\n",
    "    return \"상선\" if (end_num - start_num) > 0 else \"하선\"\n",
    "\n",
    "def compute_average_congestion(congestion_values):\n",
    "    return sum(congestion_values) / len(congestion_values)\n",
    "\n",
    "def print_congestion_predictions(start_station, end_station, input_YEAR, input_MONTH, input_DAY, input_LINE, input_TIME, station_data):\n",
    "    filtered_station_data = [item for item in station_data if item[1] == input_LINE]\n",
    "    stations = [item[2] for item in filtered_station_data]\n",
    "    \n",
    "    start_idx = stations.index(start_station)\n",
    "    end_idx = stations.index(end_station)\n",
    "    if start_idx > end_idx:\n",
    "        start_idx, end_idx = end_idx, start_idx\n",
    "\n",
    "    direction = determine_direction(start_station, end_station, station_data)\n",
    "    \n",
    "    model = joblib.load(f'XGB_reg_num{input_LINE}.pkl')\n",
    "\n",
    "    congestion_values = []\n",
    "    for idx in range(start_idx, end_idx + 1):\n",
    "        station = stations[idx]\n",
    "        input_data = pd.DataFrame({\n",
    "            'YEAR': [input_YEAR],\n",
    "            'MONTH': [input_MONTH],\n",
    "            'DAY': [input_DAY],\n",
    "            'STATION': [station],\n",
    "            'DIRECTION': [direction],\n",
    "            'TIME_00': [input_TIME]\n",
    "        })\n",
    "        \n",
    "        prediction = model.predict(input_data)\n",
    "        print(f\"역: {station}, 예측 혼잡도: {prediction[0]:.2f}\")\n",
    "        congestion_values.append(prediction[0])\n",
    "\n",
    "    avg_congestion = compute_average_congestion(congestion_values)\n",
    "    print(f\"평균 혼잡도: {avg_congestion:.2f}\")"
   ]
  },
  {
   "cell_type": "code",
   "execution_count": 85,
   "id": "34a1ad62-cbe7-4cda-b6d4-1f2876b77d45",
   "metadata": {},
   "outputs": [
    {
     "name": "stdout",
     "output_type": "stream",
     "text": [
      "역: 서울역, 예측 혼잡도: 49.66\n",
      "역: 시청, 예측 혼잡도: 65.14\n",
      "평균 혼잡도: 57.40\n"
     ]
    }
   ],
   "source": [
    "print_congestion_predictions('서울역', '시청', 2023, 5, '월', 1, 'TIME_18', list_data)"
   ]
  },
  {
   "cell_type": "code",
   "execution_count": 81,
   "id": "ddd0c859-1319-4b15-8e1c-fc9d3ca1617c",
   "metadata": {},
   "outputs": [],
   "source": [
    "import pandas as pd\n",
    "import joblib\n",
    "\n",
    "df = pd.read_csv(\"호선정리.csv\", encoding='CP949')\n",
    "list_data = df.values.tolist()\n",
    "\n",
    "def get_station_number(station_name, station_data):\n",
    "    for item in station_data:\n",
    "        if item[2] == station_name:\n",
    "            return int(item[0])\n",
    "    return None\n",
    "\n",
    "def determine_direction_and_indices(start_station, end_station, stations, line_num):\n",
    "    start_idx = stations.index(start_station)\n",
    "    end_idx = stations.index(end_station)\n",
    "    \n",
    "    if line_num == 2:\n",
    "        if abs(end_idx - start_idx) > len(stations) // 2:\n",
    "            if start_idx < end_idx:\n",
    "                direction = \"하선\"\n",
    "                start_idx, end_idx = end_idx, start_idx + len(stations)\n",
    "            else:\n",
    "                direction = \"상선\"\n",
    "                end_idx += len(stations)\n",
    "        else:\n",
    "            direction = \"상선\" if start_idx < end_idx else \"하선\"\n",
    "    else:\n",
    "        direction = \"상선\" if start_idx < end_idx else \"하선\"\n",
    "\n",
    "    return start_idx, end_idx, direction\n",
    "\n",
    "def print_congestion_predictions(start_station, end_station, input_YEAR, input_MONTH, input_DAY, input_LINE, input_TIME, station_data):\n",
    "    filtered_station_data = [item for item in station_data if item[1] == input_LINE]\n",
    "    stations = [item[2] for item in filtered_station_data]\n",
    "    \n",
    "    start_idx, end_idx, direction = determine_direction_and_indices(start_station, end_station, stations, input_LINE)\n",
    "    \n",
    "    model = joblib.load(f'XGB_reg_num{input_LINE}.pkl')\n",
    "\n",
    "    congestion_values = []\n",
    "    for idx in range(start_idx, end_idx + 1):\n",
    "        station = stations[idx % len(stations)]\n",
    "        input_data = pd.DataFrame({\n",
    "            'YEAR': [input_YEAR],\n",
    "            'MONTH': [input_MONTH],\n",
    "            'DAY': [input_DAY],\n",
    "            'STATION': [station],\n",
    "            'DIRECTION': [direction],\n",
    "            'TIME_00': [input_TIME]\n",
    "        })\n",
    "\n",
    "        prediction = model.predict(input_data)\n",
    "        print(f\"역: {station}, 예측 혼잡도: {prediction[0]:.2f}\")\n",
    "        congestion_values.append(prediction[0])\n",
    "\n",
    "    avg_congestion = sum(congestion_values) / len(congestion_values)\n",
    "    print(f\"평균 혼잡도: {avg_congestion:.2f}\")"
   ]
  },
  {
   "cell_type": "code",
   "execution_count": 82,
   "id": "429f6422-2fc0-4d5d-a282-3652c1539cf6",
   "metadata": {},
   "outputs": [
    {
     "name": "stdout",
     "output_type": "stream",
     "text": [
      "역: 서울역, 예측 혼잡도: 49.66\n",
      "역: 시청, 예측 혼잡도: 65.14\n",
      "역: 종각, 예측 혼잡도: 73.48\n",
      "역: 종로3가, 예측 혼잡도: 78.90\n",
      "역: 종로5가, 예측 혼잡도: 84.44\n",
      "역: 동대문, 예측 혼잡도: 81.32\n",
      "평균 혼잡도: 72.16\n"
     ]
    }
   ],
   "source": [
    "print_congestion_predictions('서울역', '동대문', 2023, 5, '월', 1, 'TIME_18', list_data)"
   ]
  },
  {
   "cell_type": "code",
   "execution_count": 89,
   "id": "ba3c3b94-1cb0-498a-8a3c-1be4e01e295d",
   "metadata": {},
   "outputs": [],
   "source": [
    "import pandas as pd\n",
    "import joblib\n",
    "\n",
    "df = pd.read_csv(\"호선정리.csv\", encoding='CP949')\n",
    "list_data = df.values.tolist()\n",
    "\n",
    "def determine_direction_and_indices(start_station, end_station, stations, line_num):\n",
    "    start_idx = stations.index(start_station)\n",
    "    end_idx = stations.index(end_station)\n",
    "    \n",
    "    if line_num == 2 and abs(end_idx - start_idx) > len(stations) // 2:\n",
    "        if start_idx < end_idx:\n",
    "            direction = \"하선\"\n",
    "            start_idx, end_idx = end_idx, start_idx + len(stations)\n",
    "        else:\n",
    "            direction = \"상선\"\n",
    "            end_idx += len(stations)\n",
    "    else:\n",
    "        direction = \"상선\" if start_idx < end_idx else \"하선\"\n",
    "\n",
    "    return start_idx, end_idx, direction\n",
    "\n",
    "def print_congestion_predictions(start_station, end_station, input_YEAR, input_MONTH, input_DAY, input_LINE, input_TIME, station_data):\n",
    "    stations = [item[2] for item in station_data if item[1] == input_LINE]\n",
    "    start_idx, end_idx, direction = determine_direction_and_indices(start_station, end_station, stations, input_LINE)\n",
    "    \n",
    "    model = joblib.load(f'XGB_reg_num{input_LINE}.pkl')\n",
    "    congestion_values = []\n",
    "\n",
    "    for idx in range(start_idx, end_idx + 1):\n",
    "        station = stations[idx % len(stations)]\n",
    "        input_data = pd.DataFrame({\n",
    "            'YEAR': [input_YEAR],\n",
    "            'MONTH': [input_MONTH],\n",
    "            'DAY': [input_DAY],\n",
    "            'STATION': [station],\n",
    "            'DIRECTION': [direction],\n",
    "            'TIME_00': [input_TIME]\n",
    "        })\n",
    "\n",
    "        prediction = model.predict(input_data)\n",
    "        print(f\"역: {station}, 예측 혼잡도: {prediction[0]:.2f}\")\n",
    "        congestion_values.append(prediction[0])\n",
    "\n",
    "    avg_congestion = sum(congestion_values) / len(congestion_values)\n",
    "    print(f\"평균 혼잡도: {avg_congestion:.2f}\")"
   ]
  },
  {
   "cell_type": "code",
   "execution_count": 91,
   "id": "c0ef728e-aad8-4097-aab5-dd7e5118b856",
   "metadata": {},
   "outputs": [
    {
     "name": "stdout",
     "output_type": "stream",
     "text": [
      "역: 충정로, 예측 혼잡도: 107.72\n",
      "역: 용답, 예측 혼잡도: 43.01\n",
      "역: 신답, 예측 혼잡도: 37.44\n",
      "역: 신설동, 예측 혼잡도: 3.75\n",
      "역: 도림천, 예측 혼잡도: 55.26\n",
      "역: 양천구청, 예측 혼잡도: 45.21\n",
      "역: 신정네거리, 예측 혼잡도: 39.39\n",
      "역: 용두, 예측 혼잡도: 31.76\n",
      "역: 까치산, 예측 혼잡도: 33.55\n",
      "역: 시청, 예측 혼잡도: 103.45\n",
      "평균 혼잡도: 50.05\n"
     ]
    }
   ],
   "source": [
    "print_congestion_predictions('시청', '충정로', 2023, 5, '월', 2, 'TIME_18', list_data)"
   ]
  }
 ],
 "metadata": {
  "kernelspec": {
   "display_name": "Python 3 (ipykernel)",
   "language": "python",
   "name": "python3"
  },
  "language_info": {
   "codemirror_mode": {
    "name": "ipython",
    "version": 3
   },
   "file_extension": ".py",
   "mimetype": "text/x-python",
   "name": "python",
   "nbconvert_exporter": "python",
   "pygments_lexer": "ipython3",
   "version": "3.9.13"
  }
 },
 "nbformat": 4,
 "nbformat_minor": 5
}
